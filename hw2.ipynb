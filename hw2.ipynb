{
 "cells": [
  {
   "cell_type": "markdown",
   "metadata": {},
   "source": [
    "# Saravanan, Karthik Sundaram - Homework 2\n",
    "\n",
    "**Due: Monday 18th February**\n",
    "\n",
    "We numerically explore the relationship between error distributions, objective functions (least squares, least absolute deviation, and weighted least squares), and computational speed.\n",
    "\n",
    "The following simulation creates a data set according to\n",
    "$$y_i = \\beta_1 + \\beta_2 x_i + \\beta_3 x_i^2 + \\epsilon_i.$$\n",
    "\n",
    "We generate $n$ observations from this model for $x$ on an equally spaced grid $[0,1]$. For $Y^{(t)}$, the errors ($\\epsilon_i$) have a t-distribution with 2 degrees of freedom. For $Y^{(n)}$, the errors have a standard normal distribution. For $Y^{(w)}$, the errors are heteroscedastic: $\\epsilon_i|\\sigma_i^2 \\sim N(0,\\sigma_i^2)$,  where $\\sigma_i \\sim 0.1 + \\text{Exp}(1)$ (that is, an exponential distribution shifted $0.1$ to the right). We plot each of these data sets and the true regression function."
   ]
  },
  {
   "cell_type": "markdown",
   "metadata": {},
   "source": [
    "The t distribution produces a lot of outliers (some outliers are not shown because we restricted the y-axis to ylim in each plot) and there are also a lot of outliers in the case of the heteroscedastic errors. Given the data, out goal is to infer the parameters $\\beta$. We will mainly consider two methods. The least squares method we discussed in class is\n",
    "$$ \\beta_{LS} = \\text{argmin}_{\\beta} (y_i - \\beta_1 - \\beta_2 x_i - \\beta_3 x_i^2)^2 =  \\text{argmin}_{\\beta} (Y - X\\beta)^T(Y - X\\beta) = (X^TX)^{-1}X^TY$$\n",
    "A second possibility is to find the [least absolute deviations](https://en.wikipedia.org/wiki/Least_absolute_deviations) estimator. We call this $\\beta_{LAD}$ which has the form\n",
    "$$\\beta_{LAD} = \\text{argmin}_{\\beta} |y_i - \\beta_1 - \\beta_2 x_i - \\beta_3 x_i^2|.$$\n",
    "This may also be known as $L_1$ regression or quantile regression with the $0.5$ quantile.\n",
    "\n",
    "In this homework you will fit both $\\beta_{LS}$ and $\\beta_{LAD}$ and compare the methods based on parameter estimation accuracy and speed. In the case of the heteroscedastic errors dataset we will also compare to the weighted least squares estimator $\\beta_{WLS}= (X^TWX)^{-1}X^TWY$, where $W$ is a diagonal matrix, with the diagonal given by $1/\\sigma_i^2$ for $i=1,\\dots,n$ (assume that the $\\sigma_i$ are known). "
   ]
  },
  {
   "cell_type": "markdown",
   "metadata": {},
   "source": [
    "## Question 1\n",
    "\n",
    "Fixing $X$, generate the $Y^{(t)}$, $Y^{(n)}$, and $Y^{(w)}$ datasets $N=100$ times (note that $n$ is the sample size and $N$ is the number of times we run the simulation). For the  $Y^{(t)}$ and $Y^{(n)}$ datasets, compute $\\beta_{LS}$ and $\\beta_{LAD}$ each time. Since $\\beta$ is a vector of length $3$, this will result in 4 matrices (LS for $Y^{(t)}$ and $Y^{(n)}$ and LAD for $Y^{(t)}$ and $Y^{(n)}$) with $N$ rows and 3 columns (you could store this output in other formats as well, but matrices are convenient). For the $Y^{(w)}$ datasets, compute all three estimators $\\beta_{LS}$, $\\beta_{LAD}$, and $\\beta_{WLS}$, and similarly store them in matrices. \n",
    "\n",
    "Make scatterplots of $\\beta_2$ versus $\\beta_3$ estimates for each data type and each estimator. This will produce seven scatterplots in total. Mark the true $\\beta_2$ and $\\beta_3$ on each plot and comment of the quality of the estimators in the different settings. Your scatterplots should look similar to the ones below.\n",
    "\n",
    "**Tips for Fitting** \n",
    "\n",
    "- For fitting $\\beta_{LS}$, you have many options in R (lm, lm.fit) and python (scipy.linalg.lstsq, sklearn.linear_model.LinearRegression). \n",
    "- For fitting $\\beta_{LAD}$ in R you can use l1fit from the package L1pack or  rq.fit from quantreg. For fitting $\\beta_{LAD}$ in python the options are somewhat more limited:\n",
    "    * [statsmodels](http://www.statsmodels.org/dev/examples/notebooks/generated/quantile_regression.html) requires use of pandas, calls the quantreg R package\n",
    "    * generic optimizer such as [scipy.optimize](https://docs.scipy.org/doc/scipy/reference/tutorial/optimize.html)   \n",
    "  The later is a more general method that will likely be slower. But scipy.optimize is general and will be useful for many other problems. You may also use any other optimizer you find. \n",
    "- For fitting $\\beta_{WLS}$ in R you can use for example lm.wfit or lsfit (the latter may be more convenient here). In Python you can use for example the sample_weight option in sklearn.linear_model.LinearRegression or statsmodels.regression.linear_model.WLS. "
   ]
  },
  {
   "cell_type": "code",
   "execution_count": 1,
   "metadata": {},
   "outputs": [],
   "source": [
    "set.seed(1234)\n",
    "n <- 500\n",
    "x <- seq(from=0,to=1,length.out=n)\n",
    "X <- cbind(1,x,x^2)\n",
    "beta <- matrix(c(1,2,4),nrow=3)\n",
    "Yt <- X%*%beta + rt(n,df=2)\n",
    "Yn <- X%*%beta + rnorm(n)\n",
    "sig <- 0.1 + rexp(n) \n",
    "Yw <- X%*%beta + rnorm(n,sd=sig)"
   ]
  },
  {
   "cell_type": "code",
   "execution_count": null,
   "metadata": {},
   "outputs": [],
   "source": [
    "options(repr.plot.width=7.5,repr.plot.height=3.5)\n",
    "par(mar=c(4,4,1,1),mfcol=c(1,2))\n",
    "ylim <- c(-5,10)\n",
    "plot(X[,2],Yt,xlab=\"x\",ylab=\"y\",main=\"t errors\",ylim=ylim)\n",
    "points(X[,2],X%*%beta,type='l',col='red',lwd=2)\n",
    "plot(X[,2],Yn,xlab=\"x\",ylab=\"y\",main=\"normal errors\",ylim=ylim)\n",
    "points(X[,2],X%*%beta,type='l',col='red',lwd=2)\n",
    "plot(X[,2],Yw,xlab=\"x\",ylab=\"y\",main=\"heteroscedastic errors\",ylim=ylim)\n",
    "points(X[,2],X%*%beta,type='l',col='red',lwd=2)"
   ]
  },
  {
   "cell_type": "markdown",
   "metadata": {},
   "source": [
    "(requires internet connection to view)\n",
    "\n",
    "<img src=\"https://david-jones-statistics.github.io/statcomp/hw/betaT.png\">"
   ]
  },
  {
   "cell_type": "markdown",
   "metadata": {},
   "source": [
    "(requires internet connection to view)\n",
    "\n",
    "<img src=\"https://david-jones-statistics.github.io/statcomp/hw/betaNorm.png\">"
   ]
  },
  {
   "cell_type": "markdown",
   "metadata": {},
   "source": [
    "(requires internet connection to view)\n",
    "\n",
    "<img src=\"https://david-jones-statistics.github.io/statcomp/hw/betaHet.png\">"
   ]
  },
  {
   "cell_type": "code",
   "execution_count": 6,
   "metadata": {},
   "outputs": [],
   "source": [
    "import numpy as np\n",
    "import pandas as pd\n",
    "from sklearn.linear_model import LinearRegression\n",
    "from statsmodels.regression.quantile_regression import QuantReg\n",
    "import statsmodels.formula.api as smf\n",
    "import matplotlib.pyplot as plt\n",
    "import statsmodels.api as sm\n",
    "import matplotlib.patches as mpatches\n",
    "import matplotlib.pyplot as plt\n",
    "import pylab \n",
    "import warnings\n",
    "warnings.filterwarnings(\"ignore\")"
   ]
  },
  {
   "cell_type": "code",
   "execution_count": 7,
   "metadata": {},
   "outputs": [],
   "source": [
    "n=500\n",
    "beta = [1,2,4]\n",
    "\n",
    "X = np.linspace(0,1,n)\n",
    "X = np.array(list(map(lambda z: X**z,np.arange(3))))\n",
    "X = np.transpose(X)\n",
    "\n",
    "tLS=[]\n",
    "nLS=[]\n",
    "wLS=[]\n",
    "tLAD=[]\n",
    "nLAD=[]\n",
    "wLAD=[]\n",
    "wWLS =[]\n",
    "\n",
    "df = pd.DataFrame(X,columns=['b1','b2','b3'])\n"
   ]
  },
  {
   "cell_type": "code",
   "execution_count": 8,
   "metadata": {
    "scrolled": false
   },
   "outputs": [
    {
     "data": {
      "image/png": "[encoded data removed]",
      "text/plain": [
       "<Figure size 432x288 with 1 Axes>"
      ]
     },
     "metadata": {
      "needs_background": "light"
     },
     "output_type": "display_data"
    },
    {
     "data": {
      "image/png": "[encoded data removed]",
      "text/plain": [
       "<Figure size 432x288 with 1 Axes>"
      ]
     },
     "metadata": {
      "needs_background": "light"
     },
     "output_type": "display_data"
    },
    {
     "data": {
      "image/png": "[encoded data removed]",
      "text/plain": [
       "<Figure size 432x288 with 1 Axes>"
      ]
     },
     "metadata": {
      "needs_background": "light"
     },
     "output_type": "display_data"
    },
    {
     "data": {
      "image/png": "[encoded data removed]",
      "text/plain": [
       "<Figure size 432x288 with 1 Axes>"
      ]
     },
     "metadata": {
      "needs_background": "light"
     },
     "output_type": "display_data"
    },
    {
     "data": {
      "image/png": "[encoded data removed]",
      "text/plain": [
       "<Figure size 432x288 with 1 Axes>"
      ]
     },
     "metadata": {
      "needs_background": "light"
     },
     "output_type": "display_data"
    },
    {
     "data": {
      "image/png": "[encoded data removed]",
      "text/plain": [
       "<Figure size 432x288 with 1 Axes>"
      ]
     },
     "metadata": {
      "needs_background": "light"
     },
     "output_type": "display_data"
    },
    {
     "data": {
      "image/png": "[encoded data removed]",
      "text/plain": [
       "<Figure size 432x288 with 1 Axes>"
      ]
     },
     "metadata": {
      "needs_background": "light"
     },
     "output_type": "display_data"
    }
   ],
   "source": [
    "\n",
    "\n",
    "\n",
    "for i in range(1,100):\n",
    "\n",
    "    y = np.dot(X,beta) + np.random.standard_t(2, size=500)\n",
    "    model = LinearRegression(fit_intercept=True)\n",
    "\n",
    "    model.fit(X, y)\n",
    "\n",
    "    yfit = model.predict(X)\n",
    "    #yfit\n",
    "    tLS.append(list(model.coef_))\n",
    "pylab.plot([i[1] for i in tLS],[i[2] for i in tLS],'o',color='k',markerfacecolor='none',label='Estimate')\n",
    "pylab.plot([beta[1]],[beta[2]],'ro',label = 'Truth')\n",
    "pylab.xlim([-10,10])\n",
    "pylab.ylim([0,10])\n",
    "pylab.legend(loc='lower left')\n",
    "pylab.xlabel(r'$\\beta$2')\n",
    "pylab.ylabel(r'$\\beta$3')\n",
    "pylab.title('LS - t errors')\n",
    "pylab.show()\n",
    "\n",
    "\n",
    "\n",
    "for i in range(1,100):\n",
    "\n",
    "    y = np.dot(X,beta) + np.random.standard_t(2, size=500)\n",
    "    df['y'] = y\n",
    "    mod = smf.quantreg('y ~ b2 + I(b2 ** 2.0)', df)\n",
    "    res = mod.fit(q=.5)\n",
    "    #print(res.summary())\n",
    "    res.params['b2'],res.params['I(b2 ** 2.0)']\n",
    "    #yfit\n",
    "    tLAD.append([res.params['b2'],res.params['I(b2 ** 2.0)']])\n",
    "\n",
    "pylab.plot([i[0] for i in tLAD],[i[1] for i in tLAD],'o',color='k',markerfacecolor='none',label='Estimate')\n",
    "pylab.plot([beta[1]],[beta[2]],'ro',label = 'Truth')\n",
    "pylab.xlim([-10,10])\n",
    "pylab.ylim([0,10])\n",
    "pylab.legend(loc='lower left')\n",
    "pylab.xlabel(r'$\\beta$2')\n",
    "pylab.ylabel(r'$\\beta$3')\n",
    "pylab.title('LAD - t errors')\n",
    "pylab.show()\n",
    "\n",
    "\n",
    "\n",
    "for i in range(1,100):\n",
    "\n",
    "    y = np.dot(X,beta) + np.random.normal(0, 1, 500)\n",
    "    model = LinearRegression(fit_intercept=True)\n",
    "\n",
    "    model.fit(X, y)\n",
    "\n",
    "    yfit = model.predict(X)\n",
    "    #yfit\n",
    "    nLS.append(list(model.coef_))\n",
    "\n",
    "pylab.plot([i[1] for i in nLS],[i[2] for i in nLS],'o',color='k',markerfacecolor='none',label='Estimate')\n",
    "pylab.plot([beta[1]],[beta[2]],'ro',label = 'Truth')\n",
    "pylab.xlim([-10,10])\n",
    "pylab.ylim([0,10])\n",
    "pylab.legend(loc='lower left')\n",
    "pylab.xlabel(r'$\\beta$2')\n",
    "pylab.ylabel(r'$\\beta$3')\n",
    "pylab.title('LS - normal errors')\n",
    "pylab.show()\n",
    "\n",
    "\n",
    "\n",
    "for i in range(1,100):\n",
    "\n",
    "    y = np.dot(X,beta) + np.random.normal(0, 1, 500)\n",
    "    df['y'] = y\n",
    "    mod = smf.quantreg('y ~ b2 + I(b2 ** 2.0)', df)\n",
    "    res = mod.fit(q=.5)\n",
    "    #print(res.summary())\n",
    "    res.params['b2'],res.params['I(b2 ** 2.0)']\n",
    "    #yfit\n",
    "    tLAD.append([res.params['b2'],res.params['I(b2 ** 2.0)']])\n",
    "    \n",
    "pylab.plot([i[0] for i in tLAD],[i[1] for i in tLAD],'o',color='k',markerfacecolor='none',label='Estimate')\n",
    "pylab.plot([beta[1]],[beta[2]],'ro',label = 'Truth')\n",
    "pylab.xlim([-10,10])\n",
    "pylab.ylim([0,10])\n",
    "pylab.legend(loc='lower left')\n",
    "pylab.xlabel(r'$\\beta$2')\n",
    "pylab.ylabel(r'$\\beta$3')\n",
    "pylab.title('LAD - normal errors')\n",
    "pylab.show()\n",
    "\n",
    "\n",
    "\n",
    "for i in range(1,100):\n",
    "\n",
    "    y = np.dot(X,beta) + np.random.normal(0,0.1+np.random.exponential(1), 500)\n",
    "    model = LinearRegression(fit_intercept=True)\n",
    "\n",
    "    model.fit(X, y)\n",
    "\n",
    "    yfit = model.predict(X)\n",
    "    #yfit\n",
    "    wLS.append(list(model.coef_))\n",
    "\n",
    "pylab.plot([i[1] for i in wLS],[i[2] for i in wLS],'o',color='k',markerfacecolor='none',label='Estimate')\n",
    "pylab.plot([beta[1]],[beta[2]],'ro',label = 'Truth')\n",
    "pylab.xlim([-10,10])\n",
    "pylab.ylim([0,10])\n",
    "pylab.legend(loc='lower left')\n",
    "pylab.xlabel(r'$\\beta$2')\n",
    "pylab.ylabel(r'$\\beta$3')\n",
    "pylab.title('LS - Heteroscedastic errors')\n",
    "pylab.show()\n",
    "\n",
    "\n",
    "\n",
    "for i in range(1,100):\n",
    "\n",
    "    y = np.dot(X,beta) + np.random.normal(0,0.1+np.random.exponential(1), 500)\n",
    "    df['y'] = y\n",
    "    mod = smf.quantreg('y ~ b2 + I(b2 ** 2.0)', df)\n",
    "    res = mod.fit(q=.5)\n",
    "    #print(res.summary())\n",
    "    res.params['b2'],res.params['I(b2 ** 2.0)']\n",
    "    #yfit\n",
    "    wLAD.append([res.params['b2'],res.params['I(b2 ** 2.0)']])\n",
    "\n",
    "pylab.plot([i[0] for i in wLAD],[i[1] for i in wLAD],'o',color='k',markerfacecolor='none',label='Estimate')\n",
    "pylab.plot([beta[1]],[beta[2]],'ro',label = 'Truth')\n",
    "pylab.xlim([-10,10])\n",
    "pylab.ylim([0,10])\n",
    "pylab.legend(loc='lower left')\n",
    "pylab.xlabel(r'$\\beta$2')\n",
    "pylab.ylabel(r'$\\beta$3')\n",
    "pylab.title('LAD - Heteroscedastic errors')\n",
    "pylab.show()\n",
    "\n",
    "\n",
    "for i in range(1,100):\n",
    "    sig = 0.1+np.random.exponential(1,500)\n",
    "    y = np.dot(X,beta) + np.random.normal(0,sig, 500)\n",
    "\n",
    "    wls_model = sm.WLS(y,X, weights=1/pow(sig,2))\n",
    "    results = wls_model.fit()\n",
    "    \n",
    "    wWLS.append(results.params)\n",
    "\n",
    "pylab.plot([i[1] for i in wWLS],[i[2] for i in wWLS],'o',color='k',markerfacecolor='none',label='Estimate')\n",
    "pylab.plot([beta[1]],[beta[2]],'ro',label = 'Truth')\n",
    "pylab.xlim([-10,10])\n",
    "pylab.ylim([0,10])\n",
    "pylab.legend(loc='lower left')\n",
    "pylab.xlabel(r'$\\beta$2')\n",
    "pylab.ylabel(r'$\\beta$3')\n",
    "pylab.title('WLS - Heteroscedastic errors')\n",
    "pylab.show()"
   ]
  },
  {
   "cell_type": "markdown",
   "metadata": {},
   "source": [
    "### Inference:"
   ]
  },
  {
   "cell_type": "markdown",
   "metadata": {},
   "source": [
    "- For t-errors model, LS is better as it more clustered/less spread around the actual beta values used earlier.\n",
    "- For the normal distrbution model, LAD is better as it more clustered/less spread around the actual beta values used earlier.\n",
    "- For Heteroskedastic error model, WLS is better as it more clustered/less spread around the actual beta values used earlier.\n"
   ]
  },
  {
   "cell_type": "code",
   "execution_count": null,
   "metadata": {},
   "outputs": [],
   "source": []
  },
  {
   "cell_type": "code",
   "execution_count": null,
   "metadata": {},
   "outputs": [],
   "source": []
  },
  {
   "cell_type": "markdown",
   "metadata": {},
   "source": [
    "## Question 2\n",
    "\n",
    "Compare the speed of $\\beta_{LS}$ to $\\beta_{LAD}$ using a package such as microbenchmark in R or some of the tools [here](https://jakevdp.github.io/PythonDataScienceHandbook/01.07-timing-and-profiling.html) in python. Empirically determine the computational complexity (in $n$) of $\\beta_{LAD}$ and $\\beta_{LS}$ (we know from theoretical analysis that $\\widehat{\\beta}_{LS}$ should be linear in $n$)."
   ]
  },
  {
   "cell_type": "markdown",
   "metadata": {},
   "source": [
    "### LS - t errors"
   ]
  },
  {
   "cell_type": "code",
   "execution_count": 9,
   "metadata": {},
   "outputs": [],
   "source": [
    "\n",
    "y = np.dot(X,beta) + np.random.standard_t(2, size=500)\n",
    "model = LinearRegression(fit_intercept=True)\n"
   ]
  },
  {
   "cell_type": "code",
   "execution_count": 10,
   "metadata": {},
   "outputs": [
    {
     "name": "stdout",
     "output_type": "stream",
     "text": [
      "578 µs ± 14.1 µs per loop (mean ± std. dev. of 7 runs, 1000 loops each)\n"
     ]
    }
   ],
   "source": [
    "%%timeit\n",
    "model.fit(X, y)"
   ]
  },
  {
   "cell_type": "markdown",
   "metadata": {},
   "source": [
    "### LAD - t errors"
   ]
  },
  {
   "cell_type": "code",
   "execution_count": 11,
   "metadata": {},
   "outputs": [],
   "source": [
    "\n",
    "y = np.dot(X,beta) + np.random.standard_t(2, size=500)\n",
    "df['y'] = y\n",
    "mod = smf.quantreg('y ~ b2 + I(b2 ** 2.0)', df)\n",
    "\n"
   ]
  },
  {
   "cell_type": "code",
   "execution_count": 12,
   "metadata": {},
   "outputs": [
    {
     "name": "stdout",
     "output_type": "stream",
     "text": [
      "80.9 ms ± 2.48 ms per loop (mean ± std. dev. of 7 runs, 10 loops each)\n"
     ]
    }
   ],
   "source": [
    "%%timeit\n",
    "res = mod.fit(q=.5)"
   ]
  },
  {
   "cell_type": "markdown",
   "metadata": {},
   "source": [
    "### LS - normal errors"
   ]
  },
  {
   "cell_type": "code",
   "execution_count": 13,
   "metadata": {},
   "outputs": [],
   "source": [
    "\n",
    "y = np.dot(X,beta) + np.random.normal(0, 1, 500)\n",
    "model = LinearRegression(fit_intercept=True)"
   ]
  },
  {
   "cell_type": "code",
   "execution_count": 14,
   "metadata": {},
   "outputs": [
    {
     "name": "stdout",
     "output_type": "stream",
     "text": [
      "601 µs ± 19.8 µs per loop (mean ± std. dev. of 7 runs, 1000 loops each)\n"
     ]
    }
   ],
   "source": [
    "%%timeit\n",
    "model.fit(X, y)"
   ]
  },
  {
   "cell_type": "markdown",
   "metadata": {},
   "source": [
    "### LAD - normal errors"
   ]
  },
  {
   "cell_type": "code",
   "execution_count": 15,
   "metadata": {},
   "outputs": [],
   "source": [
    "\n",
    "y = np.dot(X,beta) + np.random.normal(0, 1, 500)\n",
    "df['y'] = y\n",
    "mod = smf.quantreg('y ~ b2 + I(b2 ** 2.0)', df)\n"
   ]
  },
  {
   "cell_type": "code",
   "execution_count": 16,
   "metadata": {},
   "outputs": [
    {
     "name": "stdout",
     "output_type": "stream",
     "text": [
      "47.6 ms ± 6 ms per loop (mean ± std. dev. of 7 runs, 10 loops each)\n"
     ]
    }
   ],
   "source": [
    "%%timeit\n",
    "res = mod.fit(q=.5)"
   ]
  },
  {
   "cell_type": "markdown",
   "metadata": {},
   "source": [
    "### LS - Heteroscedastic errors"
   ]
  },
  {
   "cell_type": "code",
   "execution_count": 17,
   "metadata": {},
   "outputs": [],
   "source": [
    "\n",
    "y = np.dot(X,beta) + np.random.normal(0,0.1+np.random.exponential(1), 500)\n",
    "model = LinearRegression(fit_intercept=True)\n"
   ]
  },
  {
   "cell_type": "code",
   "execution_count": 18,
   "metadata": {},
   "outputs": [
    {
     "name": "stdout",
     "output_type": "stream",
     "text": [
      "563 µs ± 23.5 µs per loop (mean ± std. dev. of 7 runs, 1000 loops each)\n"
     ]
    }
   ],
   "source": [
    "%%timeit\n",
    "model.fit(X, y)"
   ]
  },
  {
   "cell_type": "markdown",
   "metadata": {},
   "source": [
    "### LAD - Heteroscedastic errors"
   ]
  },
  {
   "cell_type": "code",
   "execution_count": 19,
   "metadata": {},
   "outputs": [],
   "source": [
    "\n",
    "y = np.dot(X,beta) + np.random.normal(0,0.1+np.random.exponential(1), 500)\n",
    "df['y'] = y\n",
    "mod = smf.quantreg('y ~ b2 + I(b2 ** 2.0)', df)\n"
   ]
  },
  {
   "cell_type": "code",
   "execution_count": 20,
   "metadata": {},
   "outputs": [
    {
     "name": "stdout",
     "output_type": "stream",
     "text": [
      "50.9 ms ± 2.66 ms per loop (mean ± std. dev. of 7 runs, 10 loops each)\n"
     ]
    }
   ],
   "source": [
    "%%timeit\n",
    "res = mod.fit(q=.5)"
   ]
  },
  {
   "cell_type": "markdown",
   "metadata": {},
   "source": [
    "### Beta LS"
   ]
  },
  {
   "cell_type": "code",
   "execution_count": 90,
   "metadata": {},
   "outputs": [
    {
     "name": "stdout",
     "output_type": "stream",
     "text": [
      "613 µs ± 37.3 µs per loop (mean ± std. dev. of 7 runs, 1000 loops each)\n",
      "860 µs ± 20.4 µs per loop (mean ± std. dev. of 7 runs, 1000 loops each)\n",
      "1.52 ms ± 25.1 µs per loop (mean ± std. dev. of 7 runs, 1000 loops each)\n",
      "12.9 ms ± 340 µs per loop (mean ± std. dev. of 7 runs, 100 loops each)\n"
     ]
    }
   ],
   "source": [
    "func1_time = []\n",
    "for i in [1000,5000,20000,100000]:\n",
    "    X = np.linspace(0,1,i)\n",
    "    X = np.array(list(map(lambda z: X**z,np.arange(3))))\n",
    "    X = np.transpose(X)\n",
    "    y = np.dot(X,beta) + np.random.normal(0, 1, i)\n",
    "    model = LinearRegression(fit_intercept=True)\n",
    "    \n",
    "    foo =  %timeit -o model.fit(X, y)\n",
    "    func1_time.append([i,foo.average])"
   ]
  },
  {
   "cell_type": "code",
   "execution_count": 92,
   "metadata": {},
   "outputs": [
    {
     "data": {
      "text/plain": [
       "[<matplotlib.lines.Line2D at 0x1d01138a2e8>]"
      ]
     },
     "execution_count": 92,
     "metadata": {},
     "output_type": "execute_result"
    },
    {
     "data": {
      "image/png": "[encoded data removed]",
      "text/plain": [
       "<Figure size 432x288 with 1 Axes>"
      ]
     },
     "metadata": {
      "needs_background": "light"
     },
     "output_type": "display_data"
    }
   ],
   "source": [
    "plt.plot([i[0] for i in func1_time],[i[1] for i in func1_time])"
   ]
  },
  {
   "cell_type": "markdown",
   "metadata": {},
   "source": [
    "### Beta LAD"
   ]
  },
  {
   "cell_type": "code",
   "execution_count": 86,
   "metadata": {},
   "outputs": [
    {
     "name": "stdout",
     "output_type": "stream",
     "text": [
      "1000\n",
      "18.8 ms ± 941 µs per loop (mean ± std. dev. of 7 runs, 100 loops each)\n",
      "5000\n",
      "105 ms ± 2.67 ms per loop (mean ± std. dev. of 7 runs, 10 loops each)\n",
      "20000\n",
      "197 ms ± 8.27 ms per loop (mean ± std. dev. of 7 runs, 10 loops each)\n",
      "100000\n",
      "2.04 s ± 38.9 ms per loop (mean ± std. dev. of 7 runs, 1 loop each)\n"
     ]
    }
   ],
   "source": [
    "func2_time = []\n",
    "for i in [1000,5000,20000,100000]:\n",
    "    print(i)\n",
    "    X = np.linspace(0,1,i)\n",
    "    X = np.array(list(map(lambda z: X**z,np.arange(3))))\n",
    "    X = np.transpose(X)\n",
    "    y = np.dot(X,beta) + np.random.normal(0, 1, i)\n",
    "    df = pd.DataFrame(X,columns=['b1','b2','b3'])\n",
    "    df['y'] = y\n",
    "    mod = smf.quantreg('y ~ b2 + I(b2 ** 2.0)', df)\n",
    "    foo =  %timeit -o mod.fit(q=.5)\n",
    "    #print(res.summary())\n",
    "    func2_time.append([i,foo.average])"
   ]
  },
  {
   "cell_type": "code",
   "execution_count": 89,
   "metadata": {},
   "outputs": [
    {
     "data": {
      "text/plain": [
       "[<matplotlib.lines.Line2D at 0x1d00da7fe10>]"
      ]
     },
     "execution_count": 89,
     "metadata": {},
     "output_type": "execute_result"
    },
    {
     "data": {
      "image/png": "[encoded data removed]",
      "text/plain": [
       "<Figure size 432x288 with 1 Axes>"
      ]
     },
     "metadata": {
      "needs_background": "light"
     },
     "output_type": "display_data"
    }
   ],
   "source": [
    "plt.plot([i[0] for i in func2_time],[i[1] for i in func2_time])"
   ]
  },
  {
   "cell_type": "markdown",
   "metadata": {},
   "source": [
    "### conclusion"
   ]
  },
  {
   "cell_type": "code",
   "execution_count": 93,
   "metadata": {},
   "outputs": [
    {
     "data": {
      "text/plain": [
       "[<matplotlib.lines.Line2D at 0x1d00da33c50>]"
      ]
     },
     "execution_count": 93,
     "metadata": {},
     "output_type": "execute_result"
    },
    {
     "data": {
      "image/png": "[encoded data removed]",
      "text/plain": [
       "<Figure size 432x288 with 1 Axes>"
      ]
     },
     "metadata": {
      "needs_background": "light"
     },
     "output_type": "display_data"
    }
   ],
   "source": [
    "plt.plot([i[0] for i in func1_time],[i[1] for i in func1_time])\n",
    "plt.plot([i[0] for i in func2_time],[i[1] for i in func2_time])"
   ]
  },
  {
   "cell_type": "markdown",
   "metadata": {},
   "source": [
    "On comparing the above 2 plots overlapped, a conclusion that LAD is O(nlog(n)) and LS is O(n) is arrived at"
   ]
  },
  {
   "cell_type": "code",
   "execution_count": null,
   "metadata": {},
   "outputs": [],
   "source": []
  }
 ],
 "metadata": {
  "kernelspec": {
   "display_name": "Python 3",
   "language": "python",
   "name": "python3"
  },
  "language_info": {
   "codemirror_mode": {
    "name": "ipython",
    "version": 3
   },
   "file_extension": ".py",
   "mimetype": "text/x-python",
   "name": "python",
   "nbconvert_exporter": "python",
   "pygments_lexer": "ipython3",
   "version": "3.7.0"
  }
 },
 "nbformat": 4,
 "nbformat_minor": 1
}
