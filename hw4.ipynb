{
 "cells": [
  {
   "cell_type": "markdown",
   "metadata": {},
   "source": [
    "# Saravanan, Karthik Sundaram Homework 4"
   ]
  },
  {
   "cell_type": "markdown",
   "metadata": {},
   "source": [
    "**Due Monday 1st April in class**"
   ]
  },
  {
   "cell_type": "markdown",
   "metadata": {},
   "source": [
    "In this homework you will compute the posterior distribution for a Poisson likelihood with a gamma prior using:\n",
    "* Model Conjugacy\n",
    "* Numerical Integration\n",
    "* Metropolis Hastings Algorithm\n",
    "\n",
    "All of these methods should give the same answer (up to numerical approximation). In practice, one would use the conjugate model result to derive the posterior because this method is computationally fastest. However the  methods of numerical integration and Metropolis Hastings are more general in that they could be used on other, non-conjugate models. Metropolis Hastings is particularly useful because it can be used for problems where the parameter dimension is too high for direct numerical integration. "
   ]
  },
  {
   "cell_type": "markdown",
   "metadata": {},
   "source": [
    "## Problem 1\n",
    "\n",
    "Suppose we observe $X_1,\\ldots,X_n \\sim \\text{Pois}(\\lambda)$ where $\\text{Pois}(\\lambda)$ denotes a Poisson distribution with mean parameter $\\lambda$. Specifically\n",
    "$$ P(X=x|\\lambda)  = \\frac{\\lambda^x e^{-\\lambda}}{x!}$$\n",
    "for $x=0,1,\\dots$. We put a $Gamma(\\alpha,\\beta)$ prior on $\\lambda$, which we denote by $\\pi(\\lambda)$. This prior has the form\n",
    "$$\\pi(\\lambda) = \\frac{\\beta^\\alpha}{\\Gamma(\\alpha)} \\lambda^{\\alpha-1} e^{-\\beta\\lambda}$$\n",
    "for $\\lambda > 0$. Recall that $\\alpha, \\beta > 0$ are fixed, known constants.\n",
    "\n",
    "1. Using a few lines of algebra determine the posterior distribution.\n",
    "2. Plot the Gamma prior probability density with $\\alpha=3$, $\\beta=1/2$ and plot the corresponding posterior density assuming $n=10$ and \n",
    " $(x_1,\\dots,x_n) = (4,5,1,3,3,1,4,5,0,5)$\n",
    "\n",
    "\n",
    "\n",
    "Note: In python,`np.random.gamma` and `scipy.stats.gamma` use the scale parameterization. We use the rate parameterization: rate = 1/scale. R has options for both rate and scale parameterization in `rgamma`, `dgamma`, etc. See [here](https://en.wikipedia.org/wiki/Exponential_distribution) and [here](https://en.wikipedia.org/wiki/Gamma_distribution) for some discussion of different parameterizations."
   ]
  },
  {
   "cell_type": "code",
   "execution_count": null,
   "metadata": {},
   "outputs": [],
   "source": []
  },
  {
   "cell_type": "markdown",
   "metadata": {},
   "source": [
    "### Problem 1.1"
   ]
  },
  {
   "cell_type": "markdown",
   "metadata": {},
   "source": [
    "$$ P(\\lambda|x)  \\propto P(x|\\lambda) P(\\lambda)$$\n",
    "\n",
    "$$                                  \\propto \\frac{\\lambda^{\\sum_i x_i} e^{-n \\lambda}}{\\prod_i x_i} \\lambda^{\\alpha-1} e^{-\\beta\\lambda}$$\n",
    "\n",
    "$$                                  \\propto \\lambda^{({\\sum_i x_i} + \\alpha) - 1} e^{-\\lambda{(n + \\beta)}} $$\n",
    "This is the posterior distribution"
   ]
  },
  {
   "cell_type": "markdown",
   "metadata": {},
   "source": [
    "### Problem 1.2"
   ]
  },
  {
   "cell_type": "code",
   "execution_count": 1,
   "metadata": {},
   "outputs": [],
   "source": [
    "import numpy as np\n",
    "import scipy.stats\n",
    "import matplotlib.pyplot as plt\n",
    "plt.style.use('ggplot')\n",
    "%matplotlib inline"
   ]
  },
  {
   "cell_type": "code",
   "execution_count": 2,
   "metadata": {},
   "outputs": [
    {
     "data": {
      "text/plain": [
       "[4, 5, 1, 3, 3, 1, 4, 5, 0, 5]"
      ]
     },
     "execution_count": 2,
     "metadata": {},
     "output_type": "execute_result"
    }
   ],
   "source": [
    "x = [4,5,1,3,3,1,4,5,0,5]\n",
    "n = len(x)\n",
    "x"
   ]
  },
  {
   "cell_type": "code",
   "execution_count": 3,
   "metadata": {},
   "outputs": [
    {
     "data": {
      "text/plain": [
       "3.1"
      ]
     },
     "execution_count": 3,
     "metadata": {},
     "output_type": "execute_result"
    }
   ],
   "source": [
    "np.mean(x)"
   ]
  },
  {
   "cell_type": "code",
   "execution_count": 4,
   "metadata": {},
   "outputs": [],
   "source": [
    "\n",
    "alp = 3\n",
    "bet = 1/2"
   ]
  },
  {
   "cell_type": "code",
   "execution_count": 5,
   "metadata": {},
   "outputs": [],
   "source": [
    "alphadash = np.sum(x) + alp\n",
    "betadash = n + bet"
   ]
  },
  {
   "cell_type": "code",
   "execution_count": 6,
   "metadata": {},
   "outputs": [],
   "source": [
    "\n",
    "plt.rcParams['figure.figsize'] = (11, 3)"
   ]
  },
  {
   "cell_type": "code",
   "execution_count": 7,
   "metadata": {},
   "outputs": [
    {
     "data": {
      "image/png": "[encoded data removed]",
      "text/plain": [
       "<Figure size 792x216 with 2 Axes>"
      ]
     },
     "metadata": {
      "needs_background": "light"
     },
     "output_type": "display_data"
    }
   ],
   "source": [
    "fig = plt.figure()\n",
    "fig.subplots_adjust(hspace=0.4, wspace=.25)\n",
    "\n",
    "lambda2 = np.linspace(0,20,100)\n",
    "\n",
    "### plot the prior\n",
    "ax = fig.add_subplot(1, 2, 1)\n",
    "ax.plot(lambda2, scipy.stats.gamma.pdf(lambda2,a=alp,scale=1/bet),\n",
    "         'r-', lw=5, alpha=0.6, label='beta pdf')\n",
    "ax.set(xlabel='lambda', ylabel='prior');\n",
    "\n",
    "\n",
    "### plot the posterior\n",
    "ax = fig.add_subplot(1, 2, 2)\n",
    "ax.plot(lambda2, scipy.stats.gamma.pdf(lambda2,a=alphadash,scale=1/betadash),\n",
    "         'r-', lw=5, alpha=0.6, label='beta pdf')\n",
    "ax.set(xlabel='lambda', ylabel='posterior');"
   ]
  },
  {
   "cell_type": "code",
   "execution_count": 8,
   "metadata": {},
   "outputs": [
    {
     "data": {
      "text/plain": [
       "3.238095238095238"
      ]
     },
     "execution_count": 8,
     "metadata": {},
     "output_type": "execute_result"
    }
   ],
   "source": [
    "#mean of the new posterior gamma distribution\n",
    "alphadash/betadash"
   ]
  },
  {
   "cell_type": "markdown",
   "metadata": {},
   "source": [
    "## Problem 2\n",
    "\n",
    "Recall that the posterior is proportional to the likelihood times the prior\n",
    "$$ \\pi(\\lambda|x) \\propto f(x|\\lambda)\\pi(\\lambda)$$\n",
    "Here $x=(x_1,\\ldots,x_n)$ and $f(x|\\lambda) = \\lambda^{\\sum_i x_i} e^{-n\\lambda}/(\\prod_i x_i!)$ is the joint probability density function, i.e., the likelihood when viewed as a function of $\\lambda$. Plot $f(x|\\lambda)\\pi(\\lambda)$ (or something proportional to it) for the $Gamma(\\alpha=3,\\beta=1/2)$ prior and data from the previous question. Numerically integrate this function and use the result to normalize $f(x|\\lambda)\\pi(\\lambda)$. Verify that the result matches the posterior you found in Problem 1."
   ]
  },
  {
   "cell_type": "code",
   "execution_count": 9,
   "metadata": {},
   "outputs": [],
   "source": [
    "from scipy.stats import beta\n",
    "from scipy.special import factorial"
   ]
  },
  {
   "cell_type": "code",
   "execution_count": 10,
   "metadata": {},
   "outputs": [],
   "source": [
    "def posterior_p(lambda2):\n",
    "    return scipy.stats.gamma.pdf(lambda2,a=alp,scale=1/bet)*np.power(lambda2,np.sum(x))*np.exp(-lambda2*n)/np.prod(factorial(x))"
   ]
  },
  {
   "cell_type": "code",
   "execution_count": 11,
   "metadata": {},
   "outputs": [
    {
     "data": {
      "image/png": "[encoded data removed]",
      "text/plain": [
       "<Figure size 792x216 with 1 Axes>"
      ]
     },
     "metadata": {
      "needs_background": "light"
     },
     "output_type": "display_data"
    }
   ],
   "source": [
    "fig = plt.figure()\n",
    "fig.subplots_adjust(hspace=0.4, wspace=.25)\n",
    "\n",
    "lambda2 = np.linspace(0,20,100)\n",
    "\n",
    "### plot the prior\n",
    "ax = fig.add_subplot(1, 2, 1)\n",
    "ax.plot(lambda2, posterior_p(lambda2),\n",
    "         'r-', lw=5, alpha=0.6, label='beta pdf')\n",
    "ax.set(xlabel='lambda', ylabel='posterior');"
   ]
  },
  {
   "cell_type": "code",
   "execution_count": 12,
   "metadata": {},
   "outputs": [
    {
     "name": "stdout",
     "output_type": "stream",
     "text": [
      "2.0697011969566493e-10\n"
     ]
    }
   ],
   "source": [
    "fmax = np.max(posterior_p(lambda2))\n",
    "print(fmax)"
   ]
  },
  {
   "cell_type": "code",
   "execution_count": 13,
   "metadata": {},
   "outputs": [],
   "source": [
    "def posterior_p(lambda2):\n",
    "    return scipy.stats.gamma.pdf(lambda2,a=alp,scale=1/bet)*np.power(lambda2,np.sum(x))*np.exp(-lambda2*n)/np.prod(factorial(x))/fmax"
   ]
  },
  {
   "cell_type": "code",
   "execution_count": 14,
   "metadata": {},
   "outputs": [
    {
     "data": {
      "image/png": "[encoded data removed]",
      "text/plain": [
       "<Figure size 792x216 with 1 Axes>"
      ]
     },
     "metadata": {
      "needs_background": "light"
     },
     "output_type": "display_data"
    }
   ],
   "source": [
    "fig = plt.figure()\n",
    "fig.subplots_adjust(hspace=0.4, wspace=.25)\n",
    "\n",
    "lambda2 = np.linspace(0,20,100)\n",
    "\n",
    "### plot the prior\n",
    "ax = fig.add_subplot(1, 2, 1)\n",
    "ax.plot(lambda2, posterior_p(lambda2),\n",
    "         'r-', lw=5, alpha=0.6, label='beta pdf')\n",
    "ax.set(xlabel='lambda', ylabel='posterior');"
   ]
  },
  {
   "cell_type": "code",
   "execution_count": 15,
   "metadata": {},
   "outputs": [],
   "source": [
    "import scipy.integrate as integrate"
   ]
  },
  {
   "cell_type": "code",
   "execution_count": 16,
   "metadata": {
    "scrolled": true
   },
   "outputs": [],
   "source": [
    "mx = integrate.quad(lambda p: posterior_p(p), 0, 20)"
   ]
  },
  {
   "cell_type": "code",
   "execution_count": 17,
   "metadata": {},
   "outputs": [
    {
     "data": {
      "text/plain": [
       "(1.3930065636455444, 2.916951382885103e-09)"
      ]
     },
     "execution_count": 17,
     "metadata": {},
     "output_type": "execute_result"
    }
   ],
   "source": [
    "mx"
   ]
  },
  {
   "cell_type": "code",
   "execution_count": 18,
   "metadata": {},
   "outputs": [
    {
     "data": {
      "text/plain": [
       "1.3930065636455444"
      ]
     },
     "execution_count": 18,
     "metadata": {},
     "output_type": "execute_result"
    }
   ],
   "source": [
    "mx = mx[0]\n",
    "mx"
   ]
  },
  {
   "cell_type": "code",
   "execution_count": 19,
   "metadata": {},
   "outputs": [],
   "source": [
    "def posterior_p(lambda2):\n",
    "    return scipy.stats.gamma.pdf(lambda2,a=alp,scale=1/bet)*np.power(lambda2,np.sum(x))*np.exp(-lambda2*n)/np.prod(factorial(x))/(fmax*mx)"
   ]
  },
  {
   "cell_type": "code",
   "execution_count": 20,
   "metadata": {},
   "outputs": [
    {
     "data": {
      "image/png": "[encoded data removed]",
      "text/plain": [
       "<Figure size 792x216 with 1 Axes>"
      ]
     },
     "metadata": {
      "needs_background": "light"
     },
     "output_type": "display_data"
    }
   ],
   "source": [
    "fig = plt.figure()\n",
    "fig.subplots_adjust(hspace=0.4, wspace=.25)\n",
    "\n",
    "lambda2 = np.linspace(0,20,100)\n",
    "\n",
    "### plot the prior\n",
    "ax = fig.add_subplot(1, 2, 1)\n",
    "ax.plot(lambda2, posterior_p(lambda2),\n",
    "         'r-', lw=5, alpha=0.6, label='beta pdf')\n",
    "ax.set(xlabel='lambda', ylabel='posterior');"
   ]
  },
  {
   "cell_type": "code",
   "execution_count": 21,
   "metadata": {
    "scrolled": true
   },
   "outputs": [
    {
     "data": {
      "text/plain": [
       "16    3.232323\n",
       "Name: lambda, dtype: float64"
      ]
     },
     "execution_count": 21,
     "metadata": {},
     "output_type": "execute_result"
    }
   ],
   "source": [
    "import pandas as pd\n",
    "max(posterior_p(lambda2))\n",
    "df = pd.DataFrame(list(zip(lambda2,posterior_p(lambda2))),columns=[\"lambda\",\"posterior\"])\n",
    "df.loc[df['posterior']==max(df['posterior']),'lambda']"
   ]
  },
  {
   "cell_type": "markdown",
   "metadata": {},
   "source": [
    "### The above mean (lambda) matches with the resulting mean from problem 1;\n",
    "### The posterior also looks similar to problem 1"
   ]
  },
  {
   "cell_type": "code",
   "execution_count": null,
   "metadata": {},
   "outputs": [],
   "source": []
  },
  {
   "cell_type": "markdown",
   "metadata": {},
   "source": [
    "## Problem 3\n",
    "\n",
    "Write (or adapt code from class) a Metropolis Hastings algorithm to sample from the posterior. Draw a histogram of the samples and verify that they approximately match the posterior determined using conjugacy or numerical integration. Compute the posterior mean and make a 95% credible interval for $\\lambda$ (you can make this interval in many ways, but the most popular method is to compute the 0.025 and .975 quantiles of the posterior samples). You can verify that you have the right answer by computing the interval from the conjugacy result in Problem 1."
   ]
  },
  {
   "cell_type": "code",
   "execution_count": 22,
   "metadata": {},
   "outputs": [],
   "source": [
    "Niter = 50000\n",
    "chain = np.zeros(Niter)\n",
    "chain[0] = 0.3"
   ]
  },
  {
   "cell_type": "code",
   "execution_count": 23,
   "metadata": {},
   "outputs": [],
   "source": [
    "for ii in np.arange(Niter-1):\n",
    "        prop = chain[ii] + np.random.normal(loc=0.0,scale=0.5,size=1)\n",
    "        if (posterior_p(prop) / posterior_p(chain[ii])) > np.random.uniform():\n",
    "            chain[ii+1] = prop\n",
    "        else:\n",
    "            chain[ii+1] = chain[ii]"
   ]
  },
  {
   "cell_type": "code",
   "execution_count": 24,
   "metadata": {},
   "outputs": [
    {
     "data": {
      "image/png": "[encoded data removed]",
      "text/plain": [
       "<Figure size 792x216 with 1 Axes>"
      ]
     },
     "metadata": {
      "needs_background": "light"
     },
     "output_type": "display_data"
    }
   ],
   "source": [
    "fig = plt.figure()\n",
    "ax = plt.axes()\n",
    "plt.plot(np.arange(100), chain[:100]);"
   ]
  },
  {
   "cell_type": "code",
   "execution_count": 25,
   "metadata": {},
   "outputs": [],
   "source": [
    "## remove the first 1000 iterations to get rid of burn in\n",
    "chain = chain[1000:]"
   ]
  },
  {
   "cell_type": "code",
   "execution_count": 26,
   "metadata": {
    "scrolled": true
   },
   "outputs": [
    {
     "name": "stderr",
     "output_type": "stream",
     "text": [
      "C:\\Users\\Karthik\\Anaconda3\\lib\\site-packages\\matplotlib\\axes\\_axes.py:6571: UserWarning: The 'normed' kwarg is deprecated, and has been replaced by the 'density' kwarg.\n",
      "  warnings.warn(\"The 'normed' kwarg is deprecated, and has been \"\n"
     ]
    },
    {
     "data": {
      "image/png": "[encoded data removed]",
      "text/plain": [
       "<Figure size 792x216 with 1 Axes>"
      ]
     },
     "metadata": {
      "needs_background": "light"
     },
     "output_type": "display_data"
    }
   ],
   "source": [
    "fig = plt.figure()\n",
    "ax = plt.axes()\n",
    "ns, bins, rectangles = ax.hist(chain,25,normed=True,color='blue')\n",
    "p = np.linspace(.5,.85,100);\n",
    "lambda2 = np.linspace(0,6)\n",
    "plt.plot(lambda2, scipy.stats.gamma.pdf(lambda2,a=alphadash,scale=1/betadash));"
   ]
  },
  {
   "cell_type": "code",
   "execution_count": 27,
   "metadata": {},
   "outputs": [],
   "source": [
    "chain_s = np.sort(chain)\n",
    "ixL = np.floor(np.size(chain_s)*.025).astype(int) ## lower index\n",
    "ixU = np.floor(np.size(chain_s)*.975).astype(int) ## upper index"
   ]
  },
  {
   "cell_type": "code",
   "execution_count": 28,
   "metadata": {},
   "outputs": [
    {
     "name": "stdout",
     "output_type": "stream",
     "text": [
      "2.2389230412958994\n",
      "4.436223226049301\n"
     ]
    }
   ],
   "source": [
    "print(chain_s[ixL])\n",
    "print(chain_s[ixU])"
   ]
  },
  {
   "cell_type": "code",
   "execution_count": 29,
   "metadata": {},
   "outputs": [
    {
     "data": {
      "text/plain": [
       "3.2376040907197474"
      ]
     },
     "execution_count": 29,
     "metadata": {},
     "output_type": "execute_result"
    }
   ],
   "source": [
    "np.mean(chain)"
   ]
  },
  {
   "cell_type": "markdown",
   "metadata": {},
   "source": [
    "### verifying with the result from problem 1"
   ]
  },
  {
   "cell_type": "code",
   "execution_count": 30,
   "metadata": {},
   "outputs": [
    {
     "name": "stdout",
     "output_type": "stream",
     "text": [
      "2.242475084244978\n",
      "4.4137399303970755\n"
     ]
    }
   ],
   "source": [
    "lhs = scipy.stats.gamma.ppf(0.025, a=alphadash, scale=1/betadash)\n",
    "rhs = scipy.stats.gamma.ppf(0.975, a=alphadash, scale=1/betadash)\n",
    "print(lhs)\n",
    "print(rhs)"
   ]
  },
  {
   "cell_type": "code",
   "execution_count": 31,
   "metadata": {},
   "outputs": [
    {
     "data": {
      "text/plain": [
       "3.238095238095238"
      ]
     },
     "execution_count": 31,
     "metadata": {},
     "output_type": "execute_result"
    }
   ],
   "source": [
    "alphadash / betadash"
   ]
  },
  {
   "cell_type": "code",
   "execution_count": null,
   "metadata": {},
   "outputs": [],
   "source": []
  }
 ],
 "metadata": {
  "kernelspec": {
   "display_name": "Python 3",
   "language": "python",
   "name": "python3"
  },
  "language_info": {
   "codemirror_mode": {
    "name": "ipython",
    "version": 3
   },
   "file_extension": ".py",
   "mimetype": "text/x-python",
   "name": "python",
   "nbconvert_exporter": "python",
   "pygments_lexer": "ipython3",
   "version": "3.7.0"
  }
 },
 "nbformat": 4,
 "nbformat_minor": 1
}
