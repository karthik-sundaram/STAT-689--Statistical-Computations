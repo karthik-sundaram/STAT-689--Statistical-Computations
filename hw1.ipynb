{
 "cells": [
  {
   "cell_type": "markdown",
   "metadata": {},
   "source": [
    "# Saravanan, Karthik Sundaram - Homework 1\n",
    "\n",
    "### Submission\n",
    "Replace Last Name, First Name above with your name. When you complete this homework, please click \"File\" -> \"Print Preview\". Print the resulting browser tab (double check that all code / markdown is there and that plots are visible). Submit a physical copy of your homework **in class on Wednesday 30th January**.\n",
    "\n",
    "### R versus Python\n",
    "You may complete this homework in either R or python. The current notebook is written in R. If you are completing your homework in R, you can simply modify this notebook with your answers. If you are completing your homework in python, initiate a Jupyter python notebook and write your answers there.\n",
    "\n",
    "### Background Reading for Problems\n",
    "- Section 22.1 - 22.5 in \"Numerical Analysis\" by Lange."
   ]
  },
  {
   "cell_type": "markdown",
   "metadata": {},
   "source": [
    "## Question 1: Inverse Method for geometric random variates\n",
    "\n",
    "1. Using the inverse method and the language $Unif[0,1]$ generator (runif in R, numpy.random.uniform in python), write a function to generate random variates from a geometric distribution with probability of success $p$. Both $p$ and the number of random variates should be arguments to your function. There are multiple ways of defining the geometric distribution, here please use the definition that it is the number of *failures* until the first success.\n",
    "2. For some particular $p$ of your choosing, make a plot of the proportion of random variates taking each value and plot the true geometric probability mass function on top to confirm that the generator is working.\n",
    "3. Compare the speed of your geometric generator to the language generator (rgeom in R, numpy.random.geometric in python). Try to make your generator computationally competitive with the built in generator by avoiding for loops and other slow code.\n",
    "4. How do you think your method would compare to an approach that generates a sequence of random trials with probability $p$ of success until the first success and then records the number of failures until the first success? Why?"
   ]
  },
  {
   "cell_type": "markdown",
   "metadata": {},
   "source": [
    "# Q .1.1"
   ]
  },
  {
   "cell_type": "code",
   "execution_count": 1,
   "metadata": {
    "scrolled": true
   },
   "outputs": [
    {
     "data": {
      "text/plain": [
       "array([ 2., -0., -0., -0., -0.,  3.,  1., -0.,  2., -0.,  1., -0.,  1.,\n",
       "       -0., -0., -0.,  2., -0.,  1.,  1.,  2., -0.,  6.,  1.,  4., -0.,\n",
       "        1., -0.,  1.,  1.,  1.,  1.,  5.,  1.,  1., -0.,  1., -0.,  1.,\n",
       "       -0.,  1., -0., -0.,  1.,  1.,  1.,  2., -0., -0., -0.,  1.,  2.,\n",
       "       -0., -0.,  2.,  2., -0., -0., -0.,  2.,  3., -0., -0., -0.,  1.,\n",
       "       -0.,  3., -0., -0., -0.,  1., -0., -0.,  2., -0.,  1., -0.,  1.,\n",
       "       -0., -0., -0.,  1., -0., -0.,  2.,  1.,  3., -0.,  1., -0., -0.,\n",
       "        1., -0., -0., -0.,  1., -0.,  1.,  2., -0., -0.,  5., -0.,  1.,\n",
       "        2., -0.,  1.,  1., -0., -0.,  5., -0., -0.,  1., -0.,  1.,  3.,\n",
       "        4.,  2., -0., -0., -0., -0.,  3.,  3., -0., -0., -0.,  1.,  1.,\n",
       "       -0., -0.,  1., -0.,  1., -0., -0., -0.,  1.,  1., -0.,  1.,  4.,\n",
       "       -0.,  3.,  1.,  1.,  5.,  3., -0.,  1.,  1., -0.,  2., -0., -0.,\n",
       "        3., -0., -0.,  1., -0.,  2.,  1.,  3.,  3.,  1., -0., -0.,  1.,\n",
       "        1., -0., -0., -0., -0., -0., -0., -0.,  1.,  1., -0.,  1.,  1.,\n",
       "       -0.,  2.,  1.,  2., -0., -0., -0.,  2., -0., -0.,  3.,  2.,  1.,\n",
       "       -0., -0., -0., -0., -0., -0., -0., -0., -0., -0., -0., -0., -0.,\n",
       "       -0.,  1.,  1.,  1., -0., -0.,  3., -0.,  1.,  1.,  1., -0., -0.,\n",
       "       -0., -0., -0., -0.,  2., -0., -0.,  1.,  1.,  1., -0.,  2.,  2.,\n",
       "       -0., -0.,  1., -0.,  1.,  1.,  2., -0.,  3., -0., -0.,  4., -0.,\n",
       "        1.,  2., -0.,  1.,  1.,  3.,  2., -0., -0., -0., -0., -0., -0.,\n",
       "       -0., -0.,  2., -0.,  3., -0., -0.,  1.,  2., -0., -0., -0., -0.,\n",
       "       -0., -0., -0.,  1.,  3.,  1.,  2., -0., -0.,  2., -0., -0., -0.,\n",
       "       -0.,  4.,  1.,  2., -0.,  1.,  2., -0., -0.,  1., -0.,  8.,  2.,\n",
       "        1., -0., -0.,  1., -0., -0., -0.,  1., -0.,  5.,  1.,  2.,  1.,\n",
       "        1.,  1.,  3., -0., -0.,  2., -0., -0., -0., -0., -0.,  1.,  2.,\n",
       "        1.,  2., -0.,  1.,  1., -0.,  1.,  2.,  2., -0.,  3.,  1., -0.,\n",
       "        2., -0.,  2., -0.,  2.,  1.,  1.,  1.,  2.,  1.,  1., -0.,  1.,\n",
       "       -0., -0., -0., -0., -0.,  5.,  1., -0., -0., -0., -0., -0.,  1.,\n",
       "        3., -0., -0., -0., -0.,  2.,  1., -0.,  1., -0.,  2., -0., -0.,\n",
       "       -0., -0.,  1.,  2., -0., -0.,  1.,  1., -0.,  2., -0., -0.,  1.,\n",
       "       -0., -0.,  2.,  1.,  2., -0., -0., -0., -0., -0.,  1.,  1., -0.,\n",
       "        2.,  1.,  3., -0., -0., -0.,  1., -0.,  1.,  3., -0., -0., -0.,\n",
       "       -0.,  1.,  1., -0., -0.,  1., -0.,  3.,  1., -0., -0., -0.,  1.,\n",
       "        1., -0.,  4., -0.,  5., -0., -0.,  4., -0.,  1.,  2.,  3., -0.,\n",
       "       -0., -0.,  3.,  1.,  2.,  2., -0., -0., -0.,  1., -0.,  1., -0.,\n",
       "       -0.,  1., -0., -0., -0., -0., -0.,  2.,  1.,  1., -0.,  1.,  3.,\n",
       "       -0.,  2.,  1., -0., -0.,  7.,  2., -0.,  2., -0.,  1.,  1., -0.,\n",
       "        2., -0., -0., -0., -0.,  1.,  1.,  1.,  1.,  1.,  1.,  1., -0.,\n",
       "       -0., -0.,  1.,  2.,  1.,  3., -0., -0., -0.,  2.,  1.,  3.,  2.,\n",
       "        1., -0.,  2.,  1.,  1., -0.,  2.,  1.,  3.,  5., -0., -0.,  2.,\n",
       "       -0.,  1., -0., -0.,  4.,  9., -0.,  2.,  1., -0., -0., -0.,  6.,\n",
       "       -0.,  1., -0.,  2., -0.,  6.,  2.,  2.,  1., -0., -0.,  1., -0.,\n",
       "        2.,  1.,  1., -0.,  5., -0.,  1., -0., -0., -0., -0.,  2.,  4.,\n",
       "        2., -0.,  1.,  1., -0.,  1.,  1., -0.,  1., -0.,  3.,  1., -0.,\n",
       "       -0.,  3., -0., -0.,  2.,  2., -0., -0.,  3., -0.,  1.,  3.,  2.,\n",
       "       -0.,  1., -0.,  1.,  4., -0.,  1.,  1., -0., -0., -0., -0., -0.,\n",
       "        1., -0., -0., -0., -0., -0.,  1.,  1., -0., -0., -0., -0., -0.,\n",
       "       -0.,  3., -0.,  1.,  4.,  4., -0.,  2., -0.,  2.,  1., -0.,  1.,\n",
       "        6., -0.,  1., -0., -0.,  2., -0.,  1., -0.,  2., -0., -0., -0.,\n",
       "        1.,  3., -0.,  1.,  1., 10.,  1.,  1., -0., -0., -0.,  1., -0.,\n",
       "        2., -0., -0., -0.,  2., -0.,  1., -0., -0., -0., -0.,  2.,  2.,\n",
       "       -0., -0., -0., -0., -0., -0., -0.,  1.,  1.,  2.,  1., -0., -0.,\n",
       "        2.,  1., -0., -0.,  2.,  1., -0.,  1., -0., -0.,  1., -0.,  2.,\n",
       "       -0., -0.,  2.,  1., -0., -0.,  3., -0., -0.,  1., -0.,  4.,  2.,\n",
       "       -0.,  1., -0., -0.,  1.,  3., -0., -0.,  1.,  1., -0.,  1., -0.,\n",
       "        1.,  1., -0.,  5., -0., -0.,  2.,  1., -0., -0.,  4.,  1.,  1.,\n",
       "        8.,  1.,  1.,  5.,  1., -0.,  4.,  1., -0.,  4., -0., -0., -0.,\n",
       "       -0.,  3.,  1.,  1.,  1.,  1., -0., -0., -0.,  3.,  1.,  1., -0.,\n",
       "        4.,  1.,  2., -0.,  5.,  2.,  3., -0., -0., -0.,  2., -0.,  1.,\n",
       "       -0.,  1.,  4., -0., -0., -0.,  1.,  1.,  2.,  1., -0., -0., -0.,\n",
       "       -0., -0., -0.,  1.,  1., -0.,  2., -0.,  1.,  1.,  1.,  1.,  1.,\n",
       "       -0., -0., -0.,  2.,  7., -0.,  5., -0.,  1.,  5.,  3.,  3., -0.,\n",
       "        2., -0., -0., -0.,  3.,  1.,  1., -0.,  2.,  3.,  2., -0., -0.,\n",
       "        1.,  1., -0., -0., -0.,  1.,  1.,  3., -0.,  1., -0., -0., -0.,\n",
       "       -0.,  1., -0., -0., -0., -0., -0.,  3.,  1.,  1., -0., -0., -0.,\n",
       "       -0.,  1.,  2., -0., -0.,  2.,  2.,  5., -0.,  2., -0.,  1.,  1.,\n",
       "       -0.,  6., -0.,  1., -0., -0.,  2., -0., -0.,  1.,  3., -0.,  3.,\n",
       "       -0.,  1.,  2.,  1.,  3., -0.,  3., -0.,  2.,  1.,  1.,  2., -0.,\n",
       "        4., -0.,  5., -0.,  1.,  1., -0.,  1., -0.,  4., -0.,  1.,  1.,\n",
       "        1., -0., -0.,  1.,  6.,  5., -0., -0., -0., -0., -0.,  5.,  2.,\n",
       "        1.,  2., -0., -0.,  2.,  1., -0., -0.,  1., -0.,  8.,  2., -0.,\n",
       "        2., -0.,  2.,  1.,  2., -0., -0.,  1.,  5., -0., -0.,  1., -0.,\n",
       "       -0., -0.,  3.,  1., -0.,  1., -0., -0.,  2., -0.,  1.,  2.,  2.,\n",
       "       -0., -0.,  1., -0.,  1., -0.,  2., -0., -0., -0.,  2., -0.,  2.,\n",
       "       -0., -0.,  1., -0.,  2.,  1., -0.,  1.,  5.,  1., -0., -0., -0.,\n",
       "        1., -0.,  1.,  4.,  4.,  1., -0., -0., -0.,  2., -0.,  1., -0.,\n",
       "        2., -0.,  1.,  1., -0.,  2.,  2.,  1.,  2.,  1.,  1.,  1.])"
      ]
     },
     "execution_count": 1,
     "metadata": {},
     "output_type": "execute_result"
    }
   ],
   "source": [
    "import numpy as np\n",
    "from math import ceil\n",
    "%matplotlib inline\n",
    "import matplotlib.pyplot as plt\n",
    "plt.style.use('seaborn-white')\n",
    "# As integral f(x)=1 \n",
    "\n",
    "\n",
    "def rngfn(p,n):\n",
    "    U = np.random.uniform(size=n)\n",
    "    X = np.log(U)/np.log(1-p)\n",
    "    X = np.ceil(X-1)\n",
    "    return(X) # shift because number of trials before first success instead of number of failures\n",
    "\n",
    "X = rngfn(0.5,1000)\n",
    "\n",
    "X"
   ]
  },
  {
   "cell_type": "markdown",
   "metadata": {},
   "source": [
    "# Q 1.2"
   ]
  },
  {
   "cell_type": "code",
   "execution_count": 2,
   "metadata": {},
   "outputs": [
    {
     "data": {
      "image/png": "[encoded data removed]",
      "text/plain": [
       "<Figure size 432x288 with 1 Axes>"
      ]
     },
     "metadata": {
      "needs_background": "light"
     },
     "output_type": "display_data"
    }
   ],
   "source": [
    "# kwargs = dict(histtype='stepfilled', alpha=0.3, density=True, bins=50)\n",
    "# plt.hist(X, **kwargs);\n",
    "\n",
    "\n",
    "weights = np.ones_like(X)/len(X)\n",
    "y = np.random.geometric(p = 0.5,size = 1000)\n",
    "plt.hist(X, bins=50,histtype='stepfilled', weights=weights, color=\"blue\", alpha=0.5) \n",
    "plt.hist(y-1, bins=50,histtype='stepfilled', weights=weights, color=\"red\", alpha=0.3) \n",
    "plt.show()"
   ]
  },
  {
   "cell_type": "markdown",
   "metadata": {},
   "source": [
    "# Q1.3 (my function is a bit slower than the built-in function)"
   ]
  },
  {
   "cell_type": "code",
   "execution_count": 3,
   "metadata": {},
   "outputs": [
    {
     "name": "stdout",
     "output_type": "stream",
     "text": [
      "71.4 µs ± 1.59 µs per loop (mean ± std. dev. of 7 runs, 10000 loops each)\n"
     ]
    }
   ],
   "source": [
    "%%timeit\n",
    "rngfn(0.5,1000)"
   ]
  },
  {
   "cell_type": "code",
   "execution_count": 4,
   "metadata": {},
   "outputs": [
    {
     "name": "stdout",
     "output_type": "stream",
     "text": [
      "53.3 µs ± 2.31 µs per loop (mean ± std. dev. of 7 runs, 10000 loops each)\n"
     ]
    }
   ],
   "source": [
    "%%timeit\n",
    "np.random.geometric(p = 0.5,size = 1000)\n"
   ]
  },
  {
   "cell_type": "markdown",
   "metadata": {},
   "source": [
    "# Q 1.4\n",
    "### It is more computationally expensive to first store the number of trials to the first success and re-iterate the array\n",
    "### to count the number of failures in that than just iterating once counting just the failure to first success"
   ]
  },
  {
   "cell_type": "markdown",
   "metadata": {},
   "source": [
    "## Question 2: Simulation Study of the LLN and CLT\n",
    "\n",
    "1. Create an $n \\times m$ matrix $X$ with $n=100$ and $m=1000$ and each entry $X_{ij} \\sim \\text{Exp}(\\lambda)$ (rexp in R, numpy.random.exponential in python). Set the rate parameter to be $\\lambda=0.5$ so that the mean of $X_{ij}$ is $2$. (Again, beware that there are multiple ways of parameterizing the exponential distribution and python does it differently to R). <br>If you would like some intuition for this simulation consider the following situation: we survey $100$ bus stops in a city, and at each bus stop, we measure the waiting times between each bus until the stop has been visited by $1000$ buses. The exponential distribution is often used to model waiting times (bus arrival times, next stock trade, store visits, website visits, product lifetimes etc.). In this simple simulation study, we suppose that the waiting times are the same at each bus stop and throughout the day. \n",
    "2. Compute the running mean of each row of $X$ to produce a new matrix $Y$ which is again $100 \\times 1000$. Specifically the row $i$, column $k$ entry of $Y$ is\n",
    "\\begin{equation*}\n",
    "Y_{ik} = \\frac{1}{k} \\sum_{j=1}^k X_{ij}\n",
    "\\end{equation*}\n",
    "Try to avoid using nested for loops.\n",
    "3. Plot each row of $Y$ (on the y-axis) against the column number (on the x-axis). This will result in 1 plot with 100 lines. Then make three histograms 1) first column of $Y$, 2) 20th column of $Y$, and 3) the last column of $Y$. Your images should roughly look like what is below. (If you want to make the results clearer and prettier, draw all histograms or density estimators on top of each other with different colors, see lecture notes from the first class [here](https://nbviewer.jupyter.org/urls/david-jones-statistics.github.io/statcomp/lectures/topic1-intro/00intro.ipynb) for how to do this with ggplot in R or [here](https://jakevdp.github.io/PythonDataScienceHandbook/04.05-histograms-and-binnings.html) for code in python from VanderPlas)\n",
    "4. Take the variance of each column of $Y$ to produce a vector $\\boldsymbol{u}$ giving the running variance of the means across the $n$ bus stops. Plot $1/\\boldsymbol{u}_k$ (on the y-axis) against $k$ (on the x-axis), and add a line showing $k\\lambda^2$, for $k=1,\\dots,m$. \n",
    "5. Explain what the simulation results in parts 3 and 4 are showing."
   ]
  },
  {
   "cell_type": "markdown",
   "metadata": {},
   "source": [
    "(requires internet connection to view)\n",
    "\n",
    "<img src=\"https://david-jones-statistics.github.io/statcomp/hw/hw1_plot1.png\">\n"
   ]
  },
  {
   "cell_type": "markdown",
   "metadata": {
    "collapsed": true
   },
   "source": [
    "(requires internet connection to view)\n",
    "\n",
    "<img src=\"https://david-jones-statistics.github.io/statcomp/hw/hw1_plot2.png\">\n"
   ]
  },
  {
   "cell_type": "markdown",
   "metadata": {},
   "source": [
    "# Q2.1"
   ]
  },
  {
   "cell_type": "code",
   "execution_count": 5,
   "metadata": {},
   "outputs": [],
   "source": [
    "\n",
    "n=100\n",
    "m=1000\n",
    "lambD=0.5\n",
    "X = np.random.exponential(scale=1/lambD,size=n*m)\n",
    "X = X.reshape(n,m)"
   ]
  },
  {
   "cell_type": "code",
   "execution_count": 6,
   "metadata": {},
   "outputs": [
    {
     "data": {
      "text/plain": [
       "1.996905246150348"
      ]
     },
     "execution_count": 6,
     "metadata": {},
     "output_type": "execute_result"
    }
   ],
   "source": [
    "np.mean(X)"
   ]
  },
  {
   "cell_type": "code",
   "execution_count": 7,
   "metadata": {},
   "outputs": [
    {
     "data": {
      "text/plain": [
       "array([[2.71516474, 0.45668257, 3.86222289, ..., 2.83218931, 0.92442431,\n",
       "        0.68544639],\n",
       "       [0.75935428, 1.17632182, 0.18212632, ..., 5.73658957, 2.21742336,\n",
       "        1.9647172 ],\n",
       "       [6.11702556, 0.33407954, 1.29664395, ..., 0.11096946, 0.95005272,\n",
       "        9.36934453],\n",
       "       ...,\n",
       "       [1.60815994, 0.15648317, 2.20553126, ..., 4.06227059, 1.20937553,\n",
       "        0.42054256],\n",
       "       [3.19035818, 2.97313541, 3.62478152, ..., 2.07428111, 1.0395526 ,\n",
       "        0.19346382],\n",
       "       [5.46996059, 1.28681008, 2.8998572 , ..., 0.32848338, 0.71705973,\n",
       "        0.65101439]])"
      ]
     },
     "execution_count": 7,
     "metadata": {},
     "output_type": "execute_result"
    }
   ],
   "source": [
    "X"
   ]
  },
  {
   "cell_type": "markdown",
   "metadata": {},
   "source": [
    "# Q2.2"
   ]
  },
  {
   "cell_type": "code",
   "execution_count": 8,
   "metadata": {},
   "outputs": [],
   "source": [
    "\n",
    "for ii in range(1,m):\n",
    "    X[:,ii] = ((X[:,ii-1]*ii) + X[:,ii])/(ii+1)\n",
    "    "
   ]
  },
  {
   "cell_type": "code",
   "execution_count": 9,
   "metadata": {},
   "outputs": [
    {
     "data": {
      "text/plain": [
       "array([[2.71516474, 1.58592365, 2.34469006, ..., 2.19387239, 2.19260167,\n",
       "        2.19109452],\n",
       "       [0.75935428, 0.96783805, 0.70593414, ..., 1.96985441, 1.97010223,\n",
       "        1.97009684],\n",
       "       [6.11702556, 3.22555255, 2.58258302, ..., 1.92969255, 1.92871193,\n",
       "        1.93615257],\n",
       "       ...,\n",
       "       [1.60815994, 0.88232156, 1.32339146, ..., 1.9256198 , 1.92490284,\n",
       "        1.92339848],\n",
       "       [3.19035818, 3.0817468 , 3.26275837, ..., 1.97582897, 1.97489176,\n",
       "        1.97311033],\n",
       "       [5.46996059, 3.37838534, 3.21887596, ..., 2.01712363, 2.01582226,\n",
       "        2.01445745]])"
      ]
     },
     "execution_count": 9,
     "metadata": {},
     "output_type": "execute_result"
    }
   ],
   "source": [
    "X"
   ]
  },
  {
   "cell_type": "markdown",
   "metadata": {},
   "source": [
    "# Q2.3"
   ]
  },
  {
   "cell_type": "code",
   "execution_count": 10,
   "metadata": {},
   "outputs": [
    {
     "data": {
      "image/png": "[encoded data removed]",
      "text/plain": [
       "<Figure size 720x720 with 1 Axes>"
      ]
     },
     "metadata": {
      "needs_background": "light"
     },
     "output_type": "display_data"
    }
   ],
   "source": [
    "from matplotlib import pyplot as plt\n",
    "plt.figure(figsize=(10,10))\n",
    "for i in range(n):\n",
    "    plt.plot(X[i,:])\n",
    "plt.show()"
   ]
  },
  {
   "cell_type": "markdown",
   "metadata": {},
   "source": [
    "# Q 2.3.1\n",
    "# sample size = 1"
   ]
  },
  {
   "cell_type": "code",
   "execution_count": 11,
   "metadata": {},
   "outputs": [
    {
     "data": {
      "text/plain": [
       "(array([56., 24.,  9.,  2.,  4.,  3.,  0.,  0.,  0.,  2.]),\n",
       " array([ 0.04355699,  1.3509635 ,  2.65837002,  3.96577653,  5.27318304,\n",
       "         6.58058955,  7.88799606,  9.19540258, 10.50280909, 11.8102156 ,\n",
       "        13.11762211]),\n",
       " <a list of 1 Patch objects>)"
      ]
     },
     "execution_count": 11,
     "metadata": {},
     "output_type": "execute_result"
    },
    {
     "data": {
      "image/png": "[encoded data removed]",
      "text/plain": [
       "<Figure size 432x288 with 1 Axes>"
      ]
     },
     "metadata": {
      "needs_background": "light"
     },
     "output_type": "display_data"
    }
   ],
   "source": [
    "\n",
    "plt.hist(X[:,0],histtype='stepfilled')"
   ]
  },
  {
   "cell_type": "markdown",
   "metadata": {},
   "source": [
    "# Q 2.3.2\n",
    "# sample size = 20"
   ]
  },
  {
   "cell_type": "code",
   "execution_count": 12,
   "metadata": {},
   "outputs": [
    {
     "data": {
      "text/plain": [
       "(array([ 5., 11., 24., 23., 17., 12.,  4.,  1.,  2.,  1.]),\n",
       " array([1.01896606, 1.28647377, 1.55398148, 1.82148919, 2.0889969 ,\n",
       "        2.35650461, 2.62401232, 2.89152003, 3.15902774, 3.42653545,\n",
       "        3.69404316]),\n",
       " <a list of 1 Patch objects>)"
      ]
     },
     "execution_count": 12,
     "metadata": {},
     "output_type": "execute_result"
    },
    {
     "data": {
      "image/png": "[encoded data removed]",
      "text/plain": [
       "<Figure size 432x288 with 1 Axes>"
      ]
     },
     "metadata": {
      "needs_background": "light"
     },
     "output_type": "display_data"
    }
   ],
   "source": [
    "\n",
    "plt.hist(X[:,19],histtype='stepfilled')"
   ]
  },
  {
   "cell_type": "markdown",
   "metadata": {},
   "source": [
    "# Q 2.3.3\n",
    "# sample size = 1000"
   ]
  },
  {
   "cell_type": "code",
   "execution_count": 13,
   "metadata": {},
   "outputs": [
    {
     "data": {
      "text/plain": [
       "(array([ 5.,  9., 18., 20., 24., 11.,  7.,  3.,  2.,  1.]),\n",
       " array([1.87066536, 1.90270828, 1.9347512 , 1.96679411, 1.99883703,\n",
       "        2.03087994, 2.06292286, 2.09496577, 2.12700869, 2.1590516 ,\n",
       "        2.19109452]),\n",
       " <a list of 1 Patch objects>)"
      ]
     },
     "execution_count": 13,
     "metadata": {},
     "output_type": "execute_result"
    },
    {
     "data": {
      "image/png": "[encoded data removed]",
      "text/plain": [
       "<Figure size 432x288 with 1 Axes>"
      ]
     },
     "metadata": {
      "needs_background": "light"
     },
     "output_type": "display_data"
    }
   ],
   "source": [
    "\n",
    "plt.hist(X[:,999],histtype='stepfilled')"
   ]
  },
  {
   "cell_type": "markdown",
   "metadata": {},
   "source": [
    "# Q2.4"
   ]
  },
  {
   "cell_type": "code",
   "execution_count": 14,
   "metadata": {},
   "outputs": [
    {
     "data": {
      "text/plain": [
       "[<matplotlib.lines.Line2D at 0x1ab72412f28>]"
      ]
     },
     "execution_count": 14,
     "metadata": {},
     "output_type": "execute_result"
    },
    {
     "data": {
      "image/png": "[encoded data removed]",
      "text/plain": [
       "<Figure size 432x288 with 1 Axes>"
      ]
     },
     "metadata": {
      "needs_background": "light"
     },
     "output_type": "display_data"
    }
   ],
   "source": [
    "Yvar = X.var(axis = 0)\n",
    "plt.plot(1/Yvar)\n",
    "k = np.arange(1,1000)\n",
    "plt.plot(k,k*lambD*lambD)"
   ]
  },
  {
   "cell_type": "markdown",
   "metadata": {},
   "source": [
    "# Q2.5"
   ]
  },
  {
   "cell_type": "markdown",
   "metadata": {},
   "source": [
    "### - According to Q2 part 3, part 3.1 does not follow a normal distribution, but part 3.2,3.3 follows more of  a normal distribution as the sample size increases and the mean of that distribution, centers and concentrates on 2 which is the mean of the actual distribution was actual sampled from.\n",
    "\n",
    "### - Also, according to Q2, part 4, the reciprocal of the variance tends towards kλ^2, which is basically variance tends towards 1/kλ^2 which is basically (variance of the exponential distribution)/(sample size), where the variance of the exp distribution is 1/λ^2 (or) the inverse of variance called precision tends towards kλ^2\n",
    "\n",
    "### Both these are indicative of the Central Limit Theorem where the mean,variance of the sample tends to  mean,variance/(sample size) as the sample sizes increases."
   ]
  },
  {
   "cell_type": "code",
   "execution_count": null,
   "metadata": {},
   "outputs": [],
   "source": []
  }
 ],
 "metadata": {
  "kernelspec": {
   "display_name": "Python 3",
   "language": "python",
   "name": "python3"
  },
  "language_info": {
   "codemirror_mode": {
    "name": "ipython",
    "version": 3
   },
   "file_extension": ".py",
   "mimetype": "text/x-python",
   "name": "python",
   "nbconvert_exporter": "python",
   "pygments_lexer": "ipython3",
   "version": "3.7.0"
  }
 },
 "nbformat": 4,
 "nbformat_minor": 2
}
